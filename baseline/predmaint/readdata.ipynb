{
 "cells": [
  {
   "cell_type": "markdown",
   "id": "5822d61b-0089-4ec5-bc02-b601632d99bd",
   "metadata": {},
   "source": [
    "# Develop the application side to query the machine API\n",
    "\n",
    "The simluator is ready to report sensor data via the machine API. Now we need to query the API.\n",
    "We do this the same way as you did before: by loading the data from the web site.\n",
    "\n",
    "## Tasks\n",
    "\n",
    "1. Study the code, run it and see what it returns\n",
    "2. Get different number of records and plots its distribution\n",
    "3. Run a model prediction and check its results"
   ]
  },
  {
   "cell_type": "code",
   "execution_count": 53,
   "id": "94a4be3b-5d3d-4397-9b6a-9f2bbe50b494",
   "metadata": {},
   "outputs": [
    {
     "data": {
      "text/html": [
       "<div>\n",
       "<style scoped>\n",
       "    .dataframe tbody tr th:only-of-type {\n",
       "        vertical-align: middle;\n",
       "    }\n",
       "\n",
       "    .dataframe tbody tr th {\n",
       "        vertical-align: top;\n",
       "    }\n",
       "\n",
       "    .dataframe thead th {\n",
       "        text-align: right;\n",
       "    }\n",
       "</style>\n",
       "<table border=\"1\" class=\"dataframe\">\n",
       "  <thead>\n",
       "    <tr style=\"text-align: right;\">\n",
       "      <th></th>\n",
       "      <th>dt</th>\n",
       "      <th>value</th>\n",
       "    </tr>\n",
       "  </thead>\n",
       "  <tbody>\n",
       "    <tr>\n",
       "      <th>0</th>\n",
       "      <td>2021-10-15T01:30:20.848419</td>\n",
       "      <td>0.452254</td>\n",
       "    </tr>\n",
       "    <tr>\n",
       "      <th>1</th>\n",
       "      <td>2021-10-15T01:30:20.862331</td>\n",
       "      <td>0.195916</td>\n",
       "    </tr>\n",
       "    <tr>\n",
       "      <th>2</th>\n",
       "      <td>2021-10-15T01:30:20.948784</td>\n",
       "      <td>0.014203</td>\n",
       "    </tr>\n",
       "    <tr>\n",
       "      <th>3</th>\n",
       "      <td>2021-10-15T01:30:20.962652</td>\n",
       "      <td>0.565741</td>\n",
       "    </tr>\n",
       "    <tr>\n",
       "      <th>4</th>\n",
       "      <td>2021-10-15T01:30:21.049100</td>\n",
       "      <td>0.103986</td>\n",
       "    </tr>\n",
       "    <tr>\n",
       "      <th>...</th>\n",
       "      <td>...</td>\n",
       "      <td>...</td>\n",
       "    </tr>\n",
       "    <tr>\n",
       "      <th>995</th>\n",
       "      <td>2021-10-15T01:31:10.713091</td>\n",
       "      <td>0.040624</td>\n",
       "    </tr>\n",
       "    <tr>\n",
       "      <th>996</th>\n",
       "      <td>2021-10-15T01:31:10.793553</td>\n",
       "      <td>0.073023</td>\n",
       "    </tr>\n",
       "    <tr>\n",
       "      <th>997</th>\n",
       "      <td>2021-10-15T01:31:10.813380</td>\n",
       "      <td>0.218656</td>\n",
       "    </tr>\n",
       "    <tr>\n",
       "      <th>998</th>\n",
       "      <td>2021-10-15T01:31:10.893844</td>\n",
       "      <td>0.041137</td>\n",
       "    </tr>\n",
       "    <tr>\n",
       "      <th>999</th>\n",
       "      <td>2021-10-15T01:31:10.913618</td>\n",
       "      <td>0.035408</td>\n",
       "    </tr>\n",
       "  </tbody>\n",
       "</table>\n",
       "<p>1000 rows × 2 columns</p>\n",
       "</div>"
      ],
      "text/plain": [
       "                             dt     value\n",
       "0    2021-10-15T01:30:20.848419  0.452254\n",
       "1    2021-10-15T01:30:20.862331  0.195916\n",
       "2    2021-10-15T01:30:20.948784  0.014203\n",
       "3    2021-10-15T01:30:20.962652  0.565741\n",
       "4    2021-10-15T01:30:21.049100  0.103986\n",
       "..                          ...       ...\n",
       "995  2021-10-15T01:31:10.713091  0.040624\n",
       "996  2021-10-15T01:31:10.793553  0.073023\n",
       "997  2021-10-15T01:31:10.813380  0.218656\n",
       "998  2021-10-15T01:31:10.893844  0.041137\n",
       "999  2021-10-15T01:31:10.913618  0.035408\n",
       "\n",
       "[1000 rows x 2 columns]"
      ]
     },
     "execution_count": 53,
     "metadata": {},
     "output_type": "execute_result"
    }
   ],
   "source": [
    "import os\n",
    "import requests\n",
    "import pandas as pd\n",
    "import joblib\n",
    "import numpy as np\n",
    "import time\n",
    "\n",
    "def read_data(records=100):\n",
    "    resp = requests.get(f'http://localhost:5000/query/{records}')\n",
    "    data = resp.json()\n",
    "\n",
    "    df = pd.DataFrame({\n",
    "        'dt': [v[0] for v in data['values']],\n",
    "        'value': [v[1] for v in data['values']],\n",
    "    })\n",
    "    return df\n",
    "\n",
    "\n",
    "df = read_data(1000)\n",
    "df"
   ]
  },
  {
   "cell_type": "markdown",
   "id": "b05d8b17-9fc8-4189-a1ec-60bff92b3c65",
   "metadata": {},
   "source": [
    "# Get different number of sensor readings and plot results"
   ]
  },
  {
   "cell_type": "code",
   "execution_count": 28,
   "id": "135c60fb-a79c-409f-98a2-0e654e0afcc8",
   "metadata": {},
   "outputs": [
    {
     "data": {
      "text/plain": [
       "array([[<AxesSubplot:title={'center':'value'}>]], dtype=object)"
      ]
     },
     "execution_count": 28,
     "metadata": {},
     "output_type": "execute_result"
    },
    {
     "data": {
      "image/png": "[encoded data removed]",
      "text/plain": [
       "<Figure size 432x288 with 1 Axes>"
      ]
     },
     "metadata": {
      "needs_background": "light"
     },
     "output_type": "display_data"
    }
   ],
   "source": [
    "df = read_data(100)\n",
    "df.hist()"
   ]
  },
  {
   "cell_type": "code",
   "execution_count": 29,
   "id": "d93c3655-5b0e-4b43-a0a8-65e6b8fa00ad",
   "metadata": {},
   "outputs": [
    {
     "data": {
      "text/plain": [
       "array([[<AxesSubplot:title={'center':'value'}>]], dtype=object)"
      ]
     },
     "execution_count": 29,
     "metadata": {},
     "output_type": "execute_result"
    },
    {
     "data": {
      "image/png": "[encoded data removed]",
      "text/plain": [
       "<Figure size 432x288 with 1 Axes>"
      ]
     },
     "metadata": {
      "needs_background": "light"
     },
     "output_type": "display_data"
    }
   ],
   "source": [
    "df = read_data(10)\n",
    "df.hist()"
   ]
  },
  {
   "cell_type": "markdown",
   "id": "46f16410-3d2d-4e07-8fe9-4104d0edd423",
   "metadata": {},
   "source": [
    "# Predict outliers from the data queried from the actual machine\n",
    "\n",
    "Is the result as expected?"
   ]
  },
  {
   "cell_type": "code",
   "execution_count": 51,
   "id": "61daf0b0-a9c9-49ed-a9bb-c35a6fd2d91b",
   "metadata": {},
   "outputs": [
    {
     "data": {
      "text/plain": [
       "<AxesSubplot:>"
      ]
     },
     "execution_count": 51,
     "metadata": {},
     "output_type": "execute_result"
    },
    {
     "data": {
      "image/png": "[encoded data removed]",
      "text/plain": [
       "<Figure size 432x288 with 1 Axes>"
      ]
     },
     "metadata": {
      "needs_background": "light"
     },
     "output_type": "display_data"
    }
   ],
   "source": [
    "from util import load_model\n",
    "\n",
    "model = load_model('models/mymodel')\n",
    "df = read_data(1000)\n",
    "y_hat = model.predict(df['value'].values.reshape(-1, 1))\n",
    "pd.Series(y_hat).value_counts().plot(kind='bar')"
   ]
  }
 ],
 "metadata": {
  "kernelspec": {
   "display_name": "Python 3 (ipykernel)",
   "language": "python",
   "name": "python3"
  },
  "language_info": {
   "codemirror_mode": {
    "name": "ipython",
    "version": 3
   },
   "file_extension": ".py",
   "mimetype": "text/x-python",
   "name": "python",
   "nbconvert_exporter": "python",
   "pygments_lexer": "ipython3",
   "version": "3.9.7"
  }
 },
 "nbformat": 4,
 "nbformat_minor": 5
}
