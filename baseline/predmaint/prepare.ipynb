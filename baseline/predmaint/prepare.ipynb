{
 "cells": [
  {
   "cell_type": "markdown",
   "id": "825ceab1-c85b-4a94-9f1d-8a20996a311e",
   "metadata": {},
   "source": [
    "# Predictive Maintenance Example Use Case\n",
    "\n",
    "We have two main components:\n",
    "\n",
    "* *A machine* (M1) that we want to monitor\n",
    "* *A machine learning model* (MLM) to tell us whether the machine is doing ok, or not\n",
    "\n",
    "Assume that M1 has an attached sensor that reports values in 1/10th second intervals. We use a Gamma distribution to simulate these values (the Gamma distribution is often used for failure analysis).\n",
    "\n",
    "# Tasks\n",
    "\n",
    "1. Plot a distribution for each configuration indicated below (working ok, fail more often, constantly failing)\n",
    "2. Observe the difference between these distributions (what do you see?)\n",
    "3. Describe how we could identify outliers using a machine learning algorithm or a statistical procedure\n",
    "4. Implement a simple machine learning algorithm that detects anomalies in the sensor values\n",
    "\n",
    "References:\n",
    "\n",
    "* https://towardsdatascience.com/5-ways-to-detect-outliers-that-every-data-scientist-should-know-python-code-70a54335a623\n",
    "* https://scikit-learn.org/stable/modules/outlier_detection.html\n"
   ]
  },
  {
   "cell_type": "code",
   "execution_count": 1,
   "id": "92f844b2-65d1-47c3-8dd6-00b0589f0bed",
   "metadata": {},
   "outputs": [
    {
     "data": {
      "text/plain": [
       "<AxesSubplot:>"
      ]
     },
     "execution_count": 1,
     "metadata": {},
     "output_type": "execute_result"
    },
    {
     "data": {
      "image/png": "[encoded data removed]",
      "text/plain": [
       "<Figure size 432x288 with 1 Axes>"
      ]
     },
     "metadata": {
      "needs_background": "light"
     },
     "output_type": "display_data"
    }
   ],
   "source": [
    "# generates example \"sensor\" values with outliers\n",
    "# we use a gamma distribution to generate mostly \"good\" data, and a few \"bad\" outliers to signal failure\n",
    "import matplotlib\n",
    "import numpy as np\n",
    "import pandas as pd\n",
    "%matplotlib inline\n",
    "\n",
    "rnd = np.random.default_rng()\n",
    "\n",
    "# Different machine configurations\n",
    "\n",
    "# Configuration 1: working ok, intermittent failure\n",
    "shape, scale = 1., .1  \n",
    "# Configuration 2: fail more often\n",
    "# shape, scale = 5., .1  \n",
    "# Configuration 3: constantly failing\n",
    "#shape, scale = 10., .1  \n",
    "\n",
    "size = 1000\n",
    "data = rnd.gamma(shape, scale, size)\n",
    "# plot distribution\n",
    "df = pd.Series(data)\n",
    "df.hist(bins=10)"
   ]
  },
  {
   "cell_type": "markdown",
   "id": "f568a222-8359-4519-bbd7-661d2e161cc8",
   "metadata": {},
   "source": [
    "# Plot distributions for Configurations 2, 3"
   ]
  },
  {
   "cell_type": "code",
   "execution_count": 2,
   "id": "031ca387-aea5-4b97-83d3-2a5453fa88f4",
   "metadata": {},
   "outputs": [],
   "source": [
    "# insert your code here"
   ]
  },
  {
   "cell_type": "code",
   "execution_count": 3,
   "id": "1af36d8c-7266-4997-9efb-92c63faab707",
   "metadata": {},
   "outputs": [
    {
     "data": {
      "text/plain": [
       "<AxesSubplot:>"
      ]
     },
     "execution_count": 3,
     "metadata": {},
     "output_type": "execute_result"
    },
    {
     "data": {
      "image/png": "[encoded data removed]",
      "text/plain": [
       "<Figure size 432x288 with 1 Axes>"
      ]
     },
     "metadata": {
      "needs_background": "light"
     },
     "output_type": "display_data"
    }
   ],
   "source": [
    "# Configuration 2: fail more often\n",
    "shape, scale = 5., .1 \n",
    "\n",
    "data = rnd.gamma(shape, scale, size)\n",
    "# plot distribution\n",
    "df = pd.Series(data)\n",
    "df.hist(bins=10)"
   ]
  },
  {
   "cell_type": "code",
   "execution_count": 4,
   "id": "c76ee47d-879d-4cf2-b5f7-fa28f9104ac4",
   "metadata": {},
   "outputs": [
    {
     "data": {
      "text/plain": [
       "<AxesSubplot:>"
      ]
     },
     "execution_count": 4,
     "metadata": {},
     "output_type": "execute_result"
    },
    {
     "data": {
      "image/png": "[encoded data removed]",
      "text/plain": [
       "<Figure size 432x288 with 1 Axes>"
      ]
     },
     "metadata": {
      "needs_background": "light"
     },
     "output_type": "display_data"
    }
   ],
   "source": [
    "# Configuration 3: constantly failing\n",
    "shape, scale = 10., .1\n",
    "\n",
    "data = rnd.gamma(shape, scale, size)\n",
    "# plot distribution\n",
    "df = pd.Series(data)\n",
    "df.hist(bins=10)"
   ]
  },
  {
   "cell_type": "markdown",
   "id": "023ac526-86d3-4b3d-bf4c-be1403f59e49",
   "metadata": {},
   "source": [
    "# How can we detect anomalies? \n",
    "\n",
    "* Using statistical methods?\n",
    "* Why use a machine learning model?"
   ]
  },
  {
   "cell_type": "markdown",
   "id": "b2cf02d7-1e19-4557-9a38-70fcd8373ccd",
   "metadata": {},
   "source": [
    "# Train a machine learning model"
   ]
  },
  {
   "cell_type": "code",
   "execution_count": 5,
   "id": "6fdabb6b-7134-4bd1-ba6a-935a0042dce9",
   "metadata": {},
   "outputs": [
    {
     "data": {
      "text/plain": [
       " 1    0.99\n",
       "-1    0.01\n",
       "dtype: float64"
      ]
     },
     "execution_count": 5,
     "metadata": {},
     "output_type": "execute_result"
    },
    {
     "data": {
      "image/png": "[encoded data removed]",
      "text/plain": [
       "<Figure size 432x288 with 1 Axes>"
      ]
     },
     "metadata": {
      "needs_background": "light"
     },
     "output_type": "display_data"
    }
   ],
   "source": [
    "# use an isolation forest\n",
    "from sklearn.ensemble import IsolationForest\n",
    "\n",
    "# Configuration 1: working ok, intermittent failure\n",
    "shape, scale = 1., .1  \n",
    "df_train = pd.Series(rnd.gamma(shape, scale, size))\n",
    "\n",
    "clf = IsolationForest(contamination=.01)\n",
    "\n",
    "y_test = clf.fit_predict(df_train.values.reshape(-1, 1))\n",
    "counts = pd.Series(y_test).value_counts(normalize=True)\n",
    "counts.plot(kind='bar')\n",
    "counts"
   ]
  },
  {
   "cell_type": "code",
   "execution_count": 6,
   "id": "7a02fc4e-b1dd-4d83-8dc9-2c9b4b822a4d",
   "metadata": {},
   "outputs": [
    {
     "data": {
      "text/plain": [
       " 1    0.983\n",
       "-1    0.017\n",
       "dtype: float64"
      ]
     },
     "execution_count": 6,
     "metadata": {},
     "output_type": "execute_result"
    },
    {
     "data": {
      "image/png": "[encoded data removed]",
      "text/plain": [
       "<Figure size 432x288 with 1 Axes>"
      ]
     },
     "metadata": {
      "needs_background": "light"
     },
     "output_type": "display_data"
    }
   ],
   "source": [
    "# test the model performance\n",
    "test_data = rnd.gamma(shape, scale, size)\n",
    "\n",
    "predictions = clf.predict(test_data.reshape((-1, 1)))\n",
    "counts = pd.Series(predictions).value_counts(normalize=True)\n",
    "counts.plot(kind='bar')\n",
    "counts"
   ]
  },
  {
   "cell_type": "code",
   "execution_count": 7,
   "id": "4477f337-61f2-4cd9-ac9e-d9b25ab58921",
   "metadata": {},
   "outputs": [],
   "source": [
    "# Let's save the model and the training data for later use\n",
    "from util import save_model\n",
    "\n",
    "pd.DataFrame({'value': df_train}).to_csv('datasets/traindata.csv', index=False)\n",
    "save_model(clf, 'models/mymodel')"
   ]
  }
 ],
 "metadata": {
  "kernelspec": {
   "display_name": "Python 3 (ipykernel)",
   "language": "python",
   "name": "python3"
  },
  "language_info": {
   "codemirror_mode": {
    "name": "ipython",
    "version": 3
   },
   "file_extension": ".py",
   "mimetype": "text/x-python",
   "name": "python",
   "nbconvert_exporter": "python",
   "pygments_lexer": "ipython3",
   "version": "3.9.7"
  }
 },
 "nbformat": 4,
 "nbformat_minor": 5
}
